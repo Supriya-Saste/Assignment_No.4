{
 "cells": [
  {
   "cell_type": "markdown",
   "id": "18ca3a65",
   "metadata": {},
   "source": [
    "## Assignment No.4"
   ]
  },
  {
   "cell_type": "markdown",
   "id": "0379debd",
   "metadata": {},
   "source": [
    "### 1. What exactly is [ ]?"
   ]
  },
  {
   "cell_type": "markdown",
   "id": "699c650c",
   "metadata": {},
   "source": [
    "Ans:\n",
    "    It is an empty list"
   ]
  },
  {
   "cell_type": "markdown",
   "id": "04c0e66d",
   "metadata": {},
   "source": [
    "### 2. In a list of values stored in a variable called spam, how would you assign the value \"hello\"as the third value? (Assume [2, 4, 6, 8, 10] are in spam.)"
   ]
  },
  {
   "cell_type": "markdown",
   "id": "202d3c01",
   "metadata": {},
   "source": [
    "Ans:\n",
    "    spam = [2,4,6,8,10]\n",
    "    \n",
    "    To assign \"hello\" as third value we have to do following operation:\n",
    "    spam[2] = \"hello\""
   ]
  },
  {
   "cell_type": "code",
   "execution_count": 1,
   "id": "c998daae",
   "metadata": {},
   "outputs": [],
   "source": [
    "spam = [2,4,6,8,10]"
   ]
  },
  {
   "cell_type": "code",
   "execution_count": 2,
   "id": "8d9efaec",
   "metadata": {},
   "outputs": [],
   "source": [
    "spam[2] = \"hello\""
   ]
  },
  {
   "cell_type": "code",
   "execution_count": 3,
   "id": "7e02288e",
   "metadata": {},
   "outputs": [
    {
     "data": {
      "text/plain": [
       "[2, 4, 'hello', 8, 10]"
      ]
     },
     "execution_count": 3,
     "metadata": {},
     "output_type": "execute_result"
    }
   ],
   "source": [
    "spam"
   ]
  },
  {
   "cell_type": "markdown",
   "id": "7cd65ff1",
   "metadata": {},
   "source": [
    "### Let's pretend the spam includes the list ['a', 'b', 'c', 'd'] for the next three queries."
   ]
  },
  {
   "cell_type": "markdown",
   "id": "8882f2bc",
   "metadata": {},
   "source": [
    "### 3. What is the value of spam[int(int(3*2) / 11)]?"
   ]
  },
  {
   "cell_type": "code",
   "execution_count": 5,
   "id": "cfbe1b91",
   "metadata": {},
   "outputs": [],
   "source": [
    "spam = ['a','b','c','d']"
   ]
  },
  {
   "cell_type": "code",
   "execution_count": 6,
   "id": "350eab7e",
   "metadata": {},
   "outputs": [
    {
     "data": {
      "text/plain": [
       "0.5454545454545454"
      ]
     },
     "execution_count": 6,
     "metadata": {},
     "output_type": "execute_result"
    }
   ],
   "source": [
    "(int(3*2) / 11)"
   ]
  },
  {
   "cell_type": "code",
   "execution_count": 7,
   "id": "997404be",
   "metadata": {},
   "outputs": [
    {
     "data": {
      "text/plain": [
       "0"
      ]
     },
     "execution_count": 7,
     "metadata": {},
     "output_type": "execute_result"
    }
   ],
   "source": [
    "int(int(3*2) / 11)"
   ]
  },
  {
   "cell_type": "markdown",
   "id": "cbd04d65",
   "metadata": {},
   "source": [
    "Ans:\n",
    "    The value of spam[int(int(3*2) / 11)] is 'a'"
   ]
  },
  {
   "cell_type": "markdown",
   "id": "da3adb30",
   "metadata": {},
   "source": [
    "### 4. What is the value of spam[-1]?"
   ]
  },
  {
   "cell_type": "markdown",
   "id": "0028c27e",
   "metadata": {},
   "source": [
    "Ans:\n",
    "    The value of spam[-1] is \"d\""
   ]
  },
  {
   "cell_type": "markdown",
   "id": "afcaa071",
   "metadata": {},
   "source": [
    "### 5. What is the value of spam[:2]?"
   ]
  },
  {
   "cell_type": "markdown",
   "id": "c447b86a",
   "metadata": {},
   "source": [
    "Ans:\n",
    "    The value of spam[:2] is ['a', 'b']"
   ]
  },
  {
   "cell_type": "markdown",
   "id": "5eabaca9",
   "metadata": {},
   "source": [
    "### Let's pretend bacon has the list [3.14, 'cat', 11, 'cat', True] for the next three questions."
   ]
  },
  {
   "cell_type": "markdown",
   "id": "05a6d848",
   "metadata": {},
   "source": [
    "### 6. What is the value of bacon.index('cat')?"
   ]
  },
  {
   "cell_type": "code",
   "execution_count": 11,
   "id": "f2ec212a",
   "metadata": {},
   "outputs": [],
   "source": [
    "bacon =  [3.14, 'cat', 11, 'cat', True]"
   ]
  },
  {
   "cell_type": "markdown",
   "id": "ddaf11ef",
   "metadata": {},
   "source": [
    "Ans:\n",
    "    The value of bacon.index('cat') is 1"
   ]
  },
  {
   "cell_type": "markdown",
   "id": "73a01e50",
   "metadata": {},
   "source": [
    "### 7. How does bacon.append(99) change the look of the list value in bacon?"
   ]
  },
  {
   "cell_type": "markdown",
   "id": "1cea39da",
   "metadata": {},
   "source": [
    "Ans:\n",
    "    bacon.append(99) will add element 99 at the end of list & resultant list looks like:\n",
    "    [3.14, 'cat', 11, 'cat', True, 99]"
   ]
  },
  {
   "cell_type": "markdown",
   "id": "aa358de5",
   "metadata": {},
   "source": [
    "### 8. How does bacon.remove('cat') change the look of the list in bacon?"
   ]
  },
  {
   "cell_type": "markdown",
   "id": "ecb42291",
   "metadata": {},
   "source": [
    "Ans:\n",
    "    The bacon.remove('cat') removes the first appearance of 'cat' from list & the resultant list looks like:\n",
    "    [3.14, 11, 'cat', True, 99] "
   ]
  },
  {
   "cell_type": "markdown",
   "id": "bc84800e",
   "metadata": {},
   "source": [
    "### 9. What are the list concatenation and list replication operators?"
   ]
  },
  {
   "cell_type": "markdown",
   "id": "f0784960",
   "metadata": {},
   "source": [
    "Ans:\n",
    "    For list concatenation '+' operator is used. Consider an example as below:"
   ]
  },
  {
   "cell_type": "code",
   "execution_count": 24,
   "id": "2573969a",
   "metadata": {},
   "outputs": [],
   "source": [
    "l = [1,2]\n",
    "l1 = [2,3]\n",
    "l2 = l+l1"
   ]
  },
  {
   "cell_type": "code",
   "execution_count": 25,
   "id": "e93dd3c8",
   "metadata": {},
   "outputs": [
    {
     "data": {
      "text/plain": [
       "[1, 2, 2, 3]"
      ]
     },
     "execution_count": 25,
     "metadata": {},
     "output_type": "execute_result"
    }
   ],
   "source": [
    "l2"
   ]
  },
  {
   "cell_type": "markdown",
   "id": "cbf01afa",
   "metadata": {},
   "source": [
    "For list replication '*' operator is used. consider following example:"
   ]
  },
  {
   "cell_type": "code",
   "execution_count": 29,
   "id": "3d4841b9",
   "metadata": {},
   "outputs": [],
   "source": [
    "l = [1,2]\n",
    "l3 = l*2"
   ]
  },
  {
   "cell_type": "code",
   "execution_count": 30,
   "id": "71e26329",
   "metadata": {},
   "outputs": [
    {
     "data": {
      "text/plain": [
       "[1, 2, 1, 2]"
      ]
     },
     "execution_count": 30,
     "metadata": {},
     "output_type": "execute_result"
    }
   ],
   "source": [
    "l3"
   ]
  },
  {
   "cell_type": "markdown",
   "id": "81fc732c",
   "metadata": {},
   "source": [
    "### 10. What is difference between the list methods append() and insert()?"
   ]
  },
  {
   "cell_type": "markdown",
   "id": "faa4f285",
   "metadata": {},
   "source": [
    "Ans:\n",
    "    The append() method adds the elements at last in list, whereas by using insert method we can add the elements\n",
    "    at desired index"
   ]
  },
  {
   "cell_type": "markdown",
   "id": "2e5a9016",
   "metadata": {},
   "source": [
    "### 11. What are the two methods for removing items from a list?"
   ]
  },
  {
   "cell_type": "markdown",
   "id": "5bb18d56",
   "metadata": {},
   "source": [
    "Ans:\n",
    "Two methods for removing an item from list are:\n",
    "    1. remove() 2. pop()"
   ]
  },
  {
   "cell_type": "markdown",
   "id": "c4a8ac75",
   "metadata": {},
   "source": [
    "### 12. Describe how list values and string values are identical."
   ]
  },
  {
   "cell_type": "code",
   "execution_count": 37,
   "id": "f35313a0",
   "metadata": {},
   "outputs": [],
   "source": [
    "Both list values and string values uses indexing i.e. we can access the values in list and string by using indexing."
   ]
  },
  {
   "cell_type": "markdown",
   "id": "00815923",
   "metadata": {},
   "source": [
    "### 13. What&#39;s the difference between tuples and lists?"
   ]
  },
  {
   "cell_type": "markdown",
   "id": "0d8ae94c",
   "metadata": {},
   "source": [
    "List:\n",
    "    1.List elements are enclosed within [].\n",
    "    2. List is mutable\n",
    "Tuple:\n",
    "    1. Tuple elements are enclosed in ().\n",
    "    2. Tuple is immutable"
   ]
  },
  {
   "cell_type": "markdown",
   "id": "3d8315d6",
   "metadata": {},
   "source": [
    "### 14. How do you type a tuple value that only contains the integer 42?"
   ]
  },
  {
   "cell_type": "code",
   "execution_count": 45,
   "id": "03366707",
   "metadata": {},
   "outputs": [],
   "source": [
    "Ans:\n",
    "    t=(42,)"
   ]
  },
  {
   "cell_type": "markdown",
   "id": "1091bd5f",
   "metadata": {},
   "source": [
    "### 15. How do you get a list value&#39;s tuple form? How do you get a tuple value&#39;s list form?"
   ]
  },
  {
   "cell_type": "code",
   "execution_count": null,
   "id": "fe2ceb6b",
   "metadata": {},
   "outputs": [],
   "source": [
    "Ans:\n",
    "    by using typing casting we can get list values in tuple form or tuple values in list form. Consider following examples."
   ]
  },
  {
   "cell_type": "code",
   "execution_count": 47,
   "id": "b010a8fc",
   "metadata": {},
   "outputs": [],
   "source": [
    "l = [12,24,45,78]\n",
    "t= tuple(l)"
   ]
  },
  {
   "cell_type": "code",
   "execution_count": 48,
   "id": "2415f7b8",
   "metadata": {},
   "outputs": [
    {
     "data": {
      "text/plain": [
       "(12, 24, 45, 78)"
      ]
     },
     "execution_count": 48,
     "metadata": {},
     "output_type": "execute_result"
    }
   ],
   "source": [
    "t"
   ]
  },
  {
   "cell_type": "code",
   "execution_count": 51,
   "id": "1688b0bb",
   "metadata": {},
   "outputs": [],
   "source": [
    "t1 = (100,200,300,400,500)"
   ]
  },
  {
   "cell_type": "code",
   "execution_count": 52,
   "id": "a70a4793",
   "metadata": {},
   "outputs": [],
   "source": [
    "l1 = list(t1)"
   ]
  },
  {
   "cell_type": "code",
   "execution_count": 53,
   "id": "e6d482aa",
   "metadata": {},
   "outputs": [
    {
     "data": {
      "text/plain": [
       "[100, 200, 300, 400, 500]"
      ]
     },
     "execution_count": 53,
     "metadata": {},
     "output_type": "execute_result"
    }
   ],
   "source": [
    "l1"
   ]
  },
  {
   "cell_type": "markdown",
   "id": "6f79e67c",
   "metadata": {},
   "source": [
    "### 16. Variables that &quot;contain&quot; list values are not necessarily lists themselves. Instead, what do they contain?"
   ]
  },
  {
   "cell_type": "markdown",
   "id": "d8da5aa2",
   "metadata": {},
   "source": [
    "Ans:\n",
    "    They contain references to the list values."
   ]
  },
  {
   "cell_type": "markdown",
   "id": "3a89b5b2",
   "metadata": {},
   "source": [
    "### 17. How do you distinguish between copy.copy() and copy.deepcopy()?"
   ]
  },
  {
   "cell_type": "markdown",
   "id": "ca8addc3",
   "metadata": {},
   "source": [
    "Ans:\n",
    "    copy.copy(x): Performs shallow copy\n",
    "    copy.deepcopy(x): Performs deep copy\n",
    "    \n",
    "    The difference between shallow and deep copying is only relevant to compound object. \n",
    "    \n",
    "    consider following example:"
   ]
  },
  {
   "cell_type": "code",
   "execution_count": 59,
   "id": "b12c676c",
   "metadata": {},
   "outputs": [
    {
     "name": "stdout",
     "output_type": "stream",
     "text": [
      "[1, 2, 3, [23, 34, 56]]\n",
      "[1, 2, 3, [23, 34, 56]]\n"
     ]
    }
   ],
   "source": [
    "import copy\n",
    "a = [1,2,3,[23,34,56]]\n",
    "shallow = copy.copy(a)\n",
    "deep = copy.deepcopy(a)\n",
    "print(shallow)\n",
    "print(deep)"
   ]
  },
  {
   "cell_type": "markdown",
   "id": "d555830b",
   "metadata": {},
   "source": [
    "now, let's try to change any element of nested list."
   ]
  },
  {
   "cell_type": "code",
   "execution_count": 60,
   "id": "3ca56fc5",
   "metadata": {},
   "outputs": [
    {
     "name": "stdout",
     "output_type": "stream",
     "text": [
      "[1, 2, 3, [23, 34, 56, 1000]]\n",
      "[1, 2, 3, [23, 34, 56, 1000]]\n",
      "[1, 2, 3, [23, 34, 56]]\n"
     ]
    }
   ],
   "source": [
    "a[3].append(1000)\n",
    "print(a)\n",
    "print(shallow)\n",
    "print(deep)"
   ]
  },
  {
   "cell_type": "markdown",
   "id": "b1255f2f",
   "metadata": {},
   "source": [
    "So,when we modify nested object, changes will get reflected in shallow copy but not in deep copy."
   ]
  }
 ],
 "metadata": {
  "kernelspec": {
   "display_name": "Python 3",
   "language": "python",
   "name": "python3"
  },
  "language_info": {
   "codemirror_mode": {
    "name": "ipython",
    "version": 3
   },
   "file_extension": ".py",
   "mimetype": "text/x-python",
   "name": "python",
   "nbconvert_exporter": "python",
   "pygments_lexer": "ipython3",
   "version": "3.8.8"
  }
 },
 "nbformat": 4,
 "nbformat_minor": 5
}
